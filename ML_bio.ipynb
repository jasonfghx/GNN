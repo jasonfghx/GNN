{
  "nbformat": 4,
  "nbformat_minor": 0,
  "metadata": {
    "colab": {
      "provenance": []
    },
    "kernelspec": {
      "name": "python3",
      "display_name": "Python 3"
    },
    "language_info": {
      "name": "python"
    }
  },
  "cells": [
    {
      "cell_type": "code",
      "source": [
        "!git clone https://github.com/jasonfghx/GNN.git"
      ],
      "metadata": {
        "colab": {
          "base_uri": "https://localhost:8080/"
        },
        "id": "ZxupiNjMO5tR",
        "outputId": "e6c7adc7-db4e-41da-ef28-1cbf2514c7d1"
      },
      "execution_count": 9,
      "outputs": [
        {
          "output_type": "stream",
          "name": "stdout",
          "text": [
            "Cloning into 'GNN'...\n",
            "remote: Enumerating objects: 32, done.\u001b[K\n",
            "remote: Counting objects: 100% (32/32), done.\u001b[K\n",
            "remote: Compressing objects: 100% (29/29), done.\u001b[K\n",
            "remote: Total 32 (delta 9), reused 0 (delta 0), pack-reused 0 (from 0)\u001b[K\n",
            "Receiving objects: 100% (32/32), 2.15 MiB | 6.27 MiB/s, done.\n",
            "Resolving deltas: 100% (9/9), done.\n"
          ]
        }
      ]
    },
    {
      "cell_type": "code",
      "source": [
        "# 這是RdRp_inhibitors_肝炎病毒抑制物_1928 跟inactive compounds合併\n",
        "import pandas as pd\n",
        "import numpy as np\n",
        "import re\n",
        "from sklearn.model_selection import train_test_split\n",
        "from xgboost import XGBClassifier\n",
        "from sklearn.metrics import classification_report, accuracy_score\n",
        "h=pd.read_csv('/content/GNN/Hepatitis C virus RdRp_inhibitors_肝炎病毒抑制物_1928.csv').iloc[:,:-2]\n",
        "def label1(a):\n",
        "  if np.isnan(a):\n",
        "    return 0\n",
        "  else:\n",
        "    return 1\n",
        "\n",
        "h['label1']=h['Bioactivities'].apply(label1)\n",
        "\n",
        "# h['label1']=1\n",
        "i=pd.read_csv('/content/GNN/inactive compounds.csv').iloc[:,:-2]\n",
        "i['label1']=0\n",
        "a=pd.concat([i,h])\n",
        "a=a.dropna(subset=['Smiles'])\n",
        "a = a.dropna(axis=1, how='all')\n",
        "a['Targets']=a['Targets'].fillna(0)\n",
        "a['AlogP']=a['AlogP'].fillna(0)\n",
        "a['Polar Surface Area']=a['Polar Surface Area'].fillna(0)\n",
        "a['HBA']=a['HBA'].fillna(0)\n",
        "a['HBD']=a['HBD'].fillna(0)\n",
        "a['Passes Ro3']=a['Passes Ro3'].map({'N':0,'Y':1}).fillna(3)\n",
        "a['CX Acidic pKa']=a['CX Acidic pKa'].fillna(0)\n",
        "a['Structure Type']=a['Structure Type'].map({'MOL':0,'BOTH':1})\n",
        "a['Molecular Species']=a['Molecular Species'].map({'ZWITTERION':0,'NEUTRAL':1,'BASE':2,'ACID':3})\n",
        "a['Max Phase']=a['Max Phase'].fillna(99)\n",
        "b=a[['Max Phase','Molecular Weight','Targets','AlogP','Polar Surface Area','HBA','HBD','#RO5 Violations','label1','Passes Ro3','QED Weighted',\n",
        "     'CX Acidic pKa','CX LogP','CX LogD','Aromatic Rings','Structure Type','Heavy Atoms','HBA (Lipinski)','HBD (Lipinski)','Molecular Weight (Monoisotopic)','Np Likeness Score',\n",
        "     'Molecular Species']]\n",
        "b=b.dropna()\n",
        "X=b[['Max Phase','Molecular Weight','AlogP','Polar Surface Area','HBA','HBD','#RO5 Violations','Passes Ro3','QED Weighted','CX Acidic pKa','CX LogP',\n",
        "     'CX LogD','Aromatic Rings','Structure Type','Heavy Atoms','HBA (Lipinski)','HBD (Lipinski)','Molecular Weight (Monoisotopic)','Np Likeness Score',\n",
        "     'Molecular Species']]\n",
        "y=b['label1']\n",
        "X_train, X_test, y_train, y_test = train_test_split(X, y, test_size=0.2, random_state=41)\n",
        "\n",
        "# 訓練XGBoost模型\n",
        "model = XGBClassifier(use_label_encoder=False, eval_metric='logloss',learning_rate=0.1)\n",
        "model.fit(X_train, y_train)\n",
        "\n",
        "# 預測\n",
        "y_pred = model.predict(X_test)\n",
        "\n",
        "# 評估結果\n",
        "print(\"Accuracy:\", accuracy_score(y_test, y_pred))\n",
        "print(classification_report(y_test, y_pred))"
      ],
      "metadata": {
        "colab": {
          "base_uri": "https://localhost:8080/"
        },
        "id": "I3IF8ZlvQaSu",
        "outputId": "58e39026-b6fd-4155-8fe0-e60d715ad74b"
      },
      "execution_count": 3,
      "outputs": [
        {
          "output_type": "stream",
          "name": "stderr",
          "text": [
            "/usr/local/lib/python3.11/dist-packages/xgboost/core.py:158: UserWarning: [11:48:31] WARNING: /workspace/src/learner.cc:740: \n",
            "Parameters: { \"use_label_encoder\" } are not used.\n",
            "\n",
            "  warnings.warn(smsg, UserWarning)\n"
          ]
        },
        {
          "output_type": "stream",
          "name": "stdout",
          "text": [
            "Accuracy: 0.9656203288490284\n",
            "              precision    recall  f1-score   support\n",
            "\n",
            "           0       0.95      0.98      0.97       337\n",
            "           1       0.98      0.95      0.96       332\n",
            "\n",
            "    accuracy                           0.97       669\n",
            "   macro avg       0.97      0.97      0.97       669\n",
            "weighted avg       0.97      0.97      0.97       669\n",
            "\n"
          ]
        }
      ]
    },
    {
      "cell_type": "code",
      "source": [
        "h.columns"
      ],
      "metadata": {
        "colab": {
          "base_uri": "https://localhost:8080/"
        },
        "id": "FIDTvcoWRT6m",
        "outputId": "6eac1873-a7a4-41a2-a92c-16e2e08a6586"
      },
      "execution_count": 6,
      "outputs": [
        {
          "output_type": "execute_result",
          "data": {
            "text/plain": [
              "Index(['Molecule ChEMBL ID', 'Molecule Name', 'Molecule Max Phase',\n",
              "       'Molecular Weight', '#RO5 Violations', 'AlogP', 'Compound Key',\n",
              "       'Smiles', 'Standard Type', 'Standard Relation', 'Standard Value',\n",
              "       'Standard Units', 'pChEMBL Value', 'Data Validity Comment', 'Comment',\n",
              "       'Uo Units', 'Ligand Efficiency BEI', 'Ligand Efficiency LE',\n",
              "       'Ligand Efficiency LLE', 'Ligand Efficiency SEI', 'Potential Duplicate',\n",
              "       'Assay ChEMBL ID', 'Assay Description', 'Assay Type', 'BAO Format ID',\n",
              "       'BAO Label', 'Assay Organism', 'Assay Tissue ChEMBL ID',\n",
              "       'Assay Tissue Name', 'Assay Cell Type', 'Assay Subcellular Fraction',\n",
              "       'Assay Parameters', 'Assay Variant Accession', 'Assay Variant Mutation',\n",
              "       'Target ChEMBL ID', 'Target Name', 'Target Organism', 'Target Type',\n",
              "       'Document ChEMBL ID', 'Source ID', 'Source Description',\n",
              "       'Document Journal', 'Document Year', 'Cell ChEMBL ID', 'Properties',\n",
              "       'Action Type'],\n",
              "      dtype='object')"
            ]
          },
          "metadata": {},
          "execution_count": 6
        }
      ]
    },
    {
      "cell_type": "code",
      "source": [
        "# RdRp_inhibitors_新冠病毒抑制物_4195 跟inactive compounds合併\n",
        "import pandas as pd\n",
        "import numpy as np\n",
        "import re\n",
        "from sklearn.model_selection import train_test_split\n",
        "from xgboost import XGBClassifier\n",
        "from sklearn.metrics import classification_report, accuracy_score\n",
        "h=pd.read_csv('/content/GNN/SARS-CoV-2 RdRp_inhibitors_新冠病毒抑制物_4195.csv')\n",
        "\n",
        "\n",
        "def label1(a):\n",
        "  if np.isnan(a):\n",
        "    return 0\n",
        "  else:\n",
        "    return 1\n",
        "\n",
        "h['label1']=h['Bioactivities'].apply(label1)\n",
        "\n",
        "# h['label1']=1\n",
        "i=pd.read_csv('/content/GNN/inactive compounds.csv').iloc[:,:-2]\n",
        "i['label1']=0\n",
        "a=pd.concat([i,h])\n",
        "a=a.dropna(subset=['Smiles'])\n",
        "a = a.dropna(axis=1, how='all')\n",
        "a['Targets']=a['Targets'].fillna(0)\n",
        "a['AlogP']=a['AlogP'].fillna(0)\n",
        "a['Polar Surface Area']=a['Polar Surface Area'].fillna(0)\n",
        "a['HBA']=a['HBA'].fillna(0)\n",
        "a['HBD']=a['HBD'].fillna(0)\n",
        "a['Passes Ro3']=a['Passes Ro3'].map({'N':0,'Y':1}).fillna(3)\n",
        "a['CX Acidic pKa']=a['CX Acidic pKa'].fillna(0)\n",
        "a['Structure Type']=a['Structure Type'].map({'MOL':0,'BOTH':1})\n",
        "a['Molecular Species']=a['Molecular Species'].map({'ZWITTERION':0,'NEUTRAL':1,'BASE':2,'ACID':3})\n",
        "a['Max Phase']=a['Max Phase'].fillna(99)\n",
        "b=a[['Max Phase','Molecular Weight','Targets','AlogP','Polar Surface Area','HBA','HBD','#RO5 Violations','label1','Passes Ro3','QED Weighted',\n",
        "     'CX Acidic pKa','CX LogP','CX LogD','Aromatic Rings','Structure Type','Heavy Atoms','HBA (Lipinski)','HBD (Lipinski)','Molecular Weight (Monoisotopic)','Np Likeness Score',\n",
        "     'Molecular Species']]\n",
        "b=b.dropna()\n",
        "X=b[['Max Phase','Molecular Weight','AlogP','Polar Surface Area','HBA','HBD','#RO5 Violations','Passes Ro3','QED Weighted','CX Acidic pKa','CX LogP',\n",
        "     'CX LogD','Aromatic Rings','Structure Type','Heavy Atoms','HBA (Lipinski)','HBD (Lipinski)','Molecular Weight (Monoisotopic)','Np Likeness Score',\n",
        "     'Molecular Species']]\n",
        "y=b['label1']\n",
        "X_train, X_test, y_train, y_test = train_test_split(X, y, test_size=0.2, random_state=41)\n",
        "\n",
        "# 訓練XGBoost模型\n",
        "model = XGBClassifier(use_label_encoder=False, eval_metric='logloss',learning_rate=0.1)\n",
        "model.fit(X_train, y_train)\n",
        "\n",
        "# 預測\n",
        "y_pred = model.predict(X_test)\n",
        "\n",
        "# 評估結果\n",
        "print(\"Accuracy:\", accuracy_score(y_test, y_pred))\n",
        "print(classification_report(y_test, y_pred))"
      ],
      "metadata": {
        "colab": {
          "base_uri": "https://localhost:8080/"
        },
        "id": "dG5CHYIFQsVu",
        "outputId": "087d56a1-6d03-45a9-8855-fd64799a2376"
      },
      "execution_count": 10,
      "outputs": [
        {
          "output_type": "stream",
          "name": "stdout",
          "text": [
            "Accuracy: 0.9500499500499501\n",
            "              precision    recall  f1-score   support\n",
            "\n",
            "           0       0.89      0.97      0.93       331\n",
            "           1       0.99      0.94      0.96       670\n",
            "\n",
            "    accuracy                           0.95      1001\n",
            "   macro avg       0.94      0.96      0.94      1001\n",
            "weighted avg       0.95      0.95      0.95      1001\n",
            "\n"
          ]
        },
        {
          "output_type": "stream",
          "name": "stderr",
          "text": [
            "/usr/local/lib/python3.11/dist-packages/xgboost/core.py:158: UserWarning: [11:59:23] WARNING: /workspace/src/learner.cc:740: \n",
            "Parameters: { \"use_label_encoder\" } are not used.\n",
            "\n",
            "  warnings.warn(smsg, UserWarning)\n"
          ]
        }
      ]
    },
    {
      "cell_type": "code",
      "source": [
        "# 這是DENV inhibitors RdRp_登革熱病毒抑制物_335.csv 跟inactive compounds合併\n",
        "\n",
        "import pandas as pd\n",
        "import warnings\n",
        "warnings.filterwarnings(\"ignore\", category=UserWarning)\n",
        "import numpy as np\n",
        "import re\n",
        "from sklearn.model_selection import train_test_split\n",
        "from xgboost import XGBClassifier\n",
        "from sklearn.metrics import classification_report, accuracy_score\n",
        "h=pd.read_csv('/content/GNN/DENV inhibitors RdRp_登革熱病毒抑制物_335.csv')\n",
        "\n",
        "\n",
        "def label1(a):\n",
        "  if np.isnan(a):\n",
        "    return 0\n",
        "  else:\n",
        "    return 1\n",
        "\n",
        "h['label1']=h['Bioactivities'].apply(label1)\n",
        "temp=h[h['label1']==1]\n",
        "h=pd.concat([temp,temp,temp,temp,temp,temp,temp,temp,temp,temp,h])\n",
        "# h['label1']=1\n",
        "i=pd.read_csv('/content/GNN/inactive compounds.csv').iloc[:,:-2]\n",
        "i['label1']=0\n",
        "a=pd.concat([i,h])\n",
        "a=a.dropna(subset=['Smiles'])\n",
        "a = a.dropna(axis=1, how='all')\n",
        "a['Targets']=a['Targets'].fillna(0)\n",
        "a['AlogP']=a['AlogP'].fillna(0)\n",
        "a['Polar Surface Area']=a['Polar Surface Area'].fillna(0)\n",
        "a['HBA']=a['HBA'].fillna(0)\n",
        "a['HBD']=a['HBD'].fillna(0)\n",
        "a['Passes Ro3']=a['Passes Ro3'].map({'N':0,'Y':1}).fillna(3)\n",
        "a['CX Acidic pKa']=a['CX Acidic pKa'].fillna(0)\n",
        "\n",
        "a['Molecular Species']=a['Molecular Species'].map({'ZWITTERION':0,'NEUTRAL':1,'BASE':2,'ACID':3})\n",
        "a['Max Phase']=a['Max Phase'].fillna(99)\n",
        "b=a[['Max Phase','Molecular Weight','Targets','AlogP','Polar Surface Area','HBA','HBD','#RO5 Violations','label1','Passes Ro3',\n",
        "     'CX Acidic pKa']]\n",
        "b=b.dropna()\n",
        "X=b[['Max Phase','Molecular Weight','AlogP','Polar Surface Area','HBA','HBD','#RO5 Violations','Passes Ro3','CX Acidic pKa']]\n",
        "y=b['label1']\n",
        "X_train, X_test, y_train, y_test = train_test_split(X, y, test_size=0.2, random_state=41)\n",
        "\n",
        "# 訓練XGBoost模型\n",
        "model = XGBClassifier(use_label_encoder=False, eval_metric='logloss',learning_rate=0.1)\n",
        "model.fit(X_train, y_train)\n",
        "\n",
        "# 預測\n",
        "y_pred = model.predict(X_test)\n",
        "\n",
        "# 評估結果\n",
        "print(\"Accuracy:\", accuracy_score(y_test, y_pred))\n",
        "print(classification_report(y_test, y_pred))"
      ],
      "metadata": {
        "id": "deCHRDd7_fFP",
        "colab": {
          "base_uri": "https://localhost:8080/"
        },
        "outputId": "9015931d-6e4d-428f-c4f5-02e63896da86"
      },
      "execution_count": 46,
      "outputs": [
        {
          "output_type": "stream",
          "name": "stdout",
          "text": [
            "Accuracy: 0.9880043620501636\n",
            "              precision    recall  f1-score   support\n",
            "\n",
            "           0       1.00      0.97      0.98       359\n",
            "           1       0.98      1.00      0.99       558\n",
            "\n",
            "    accuracy                           0.99       917\n",
            "   macro avg       0.99      0.98      0.99       917\n",
            "weighted avg       0.99      0.99      0.99       917\n",
            "\n"
          ]
        }
      ]
    },
    {
      "cell_type": "code",
      "source": [
        "h['Structure Type']"
      ],
      "metadata": {
        "colab": {
          "base_uri": "https://localhost:8080/",
          "height": 547
        },
        "id": "sMlyfs_qVppG",
        "outputId": "e435d036-5626-45ce-987e-a0b2cf9492a8"
      },
      "execution_count": 36,
      "outputs": [
        {
          "output_type": "error",
          "ename": "KeyError",
          "evalue": "'Structure Type'",
          "traceback": [
            "\u001b[0;31m---------------------------------------------------------------------------\u001b[0m",
            "\u001b[0;31mKeyError\u001b[0m                                  Traceback (most recent call last)",
            "\u001b[0;32m/usr/local/lib/python3.11/dist-packages/pandas/core/indexes/base.py\u001b[0m in \u001b[0;36mget_loc\u001b[0;34m(self, key)\u001b[0m\n\u001b[1;32m   3804\u001b[0m         \u001b[0;32mtry\u001b[0m\u001b[0;34m:\u001b[0m\u001b[0;34m\u001b[0m\u001b[0;34m\u001b[0m\u001b[0m\n\u001b[0;32m-> 3805\u001b[0;31m             \u001b[0;32mreturn\u001b[0m \u001b[0mself\u001b[0m\u001b[0;34m.\u001b[0m\u001b[0m_engine\u001b[0m\u001b[0;34m.\u001b[0m\u001b[0mget_loc\u001b[0m\u001b[0;34m(\u001b[0m\u001b[0mcasted_key\u001b[0m\u001b[0;34m)\u001b[0m\u001b[0;34m\u001b[0m\u001b[0;34m\u001b[0m\u001b[0m\n\u001b[0m\u001b[1;32m   3806\u001b[0m         \u001b[0;32mexcept\u001b[0m \u001b[0mKeyError\u001b[0m \u001b[0;32mas\u001b[0m \u001b[0merr\u001b[0m\u001b[0;34m:\u001b[0m\u001b[0;34m\u001b[0m\u001b[0;34m\u001b[0m\u001b[0m\n",
            "\u001b[0;32mindex.pyx\u001b[0m in \u001b[0;36mpandas._libs.index.IndexEngine.get_loc\u001b[0;34m()\u001b[0m\n",
            "\u001b[0;32mindex.pyx\u001b[0m in \u001b[0;36mpandas._libs.index.IndexEngine.get_loc\u001b[0;34m()\u001b[0m\n",
            "\u001b[0;32mpandas/_libs/hashtable_class_helper.pxi\u001b[0m in \u001b[0;36mpandas._libs.hashtable.PyObjectHashTable.get_item\u001b[0;34m()\u001b[0m\n",
            "\u001b[0;32mpandas/_libs/hashtable_class_helper.pxi\u001b[0m in \u001b[0;36mpandas._libs.hashtable.PyObjectHashTable.get_item\u001b[0;34m()\u001b[0m\n",
            "\u001b[0;31mKeyError\u001b[0m: 'Structure Type'",
            "\nThe above exception was the direct cause of the following exception:\n",
            "\u001b[0;31mKeyError\u001b[0m                                  Traceback (most recent call last)",
            "\u001b[0;32m/tmp/ipython-input-36-3709787055.py\u001b[0m in \u001b[0;36m<cell line: 0>\u001b[0;34m()\u001b[0m\n\u001b[0;32m----> 1\u001b[0;31m \u001b[0mh\u001b[0m\u001b[0;34m[\u001b[0m\u001b[0;34m'Structure Type'\u001b[0m\u001b[0;34m]\u001b[0m\u001b[0;34m\u001b[0m\u001b[0;34m\u001b[0m\u001b[0m\n\u001b[0m",
            "\u001b[0;32m/usr/local/lib/python3.11/dist-packages/pandas/core/frame.py\u001b[0m in \u001b[0;36m__getitem__\u001b[0;34m(self, key)\u001b[0m\n\u001b[1;32m   4100\u001b[0m             \u001b[0;32mif\u001b[0m \u001b[0mself\u001b[0m\u001b[0;34m.\u001b[0m\u001b[0mcolumns\u001b[0m\u001b[0;34m.\u001b[0m\u001b[0mnlevels\u001b[0m \u001b[0;34m>\u001b[0m \u001b[0;36m1\u001b[0m\u001b[0;34m:\u001b[0m\u001b[0;34m\u001b[0m\u001b[0;34m\u001b[0m\u001b[0m\n\u001b[1;32m   4101\u001b[0m                 \u001b[0;32mreturn\u001b[0m \u001b[0mself\u001b[0m\u001b[0;34m.\u001b[0m\u001b[0m_getitem_multilevel\u001b[0m\u001b[0;34m(\u001b[0m\u001b[0mkey\u001b[0m\u001b[0;34m)\u001b[0m\u001b[0;34m\u001b[0m\u001b[0;34m\u001b[0m\u001b[0m\n\u001b[0;32m-> 4102\u001b[0;31m             \u001b[0mindexer\u001b[0m \u001b[0;34m=\u001b[0m \u001b[0mself\u001b[0m\u001b[0;34m.\u001b[0m\u001b[0mcolumns\u001b[0m\u001b[0;34m.\u001b[0m\u001b[0mget_loc\u001b[0m\u001b[0;34m(\u001b[0m\u001b[0mkey\u001b[0m\u001b[0;34m)\u001b[0m\u001b[0;34m\u001b[0m\u001b[0;34m\u001b[0m\u001b[0m\n\u001b[0m\u001b[1;32m   4103\u001b[0m             \u001b[0;32mif\u001b[0m \u001b[0mis_integer\u001b[0m\u001b[0;34m(\u001b[0m\u001b[0mindexer\u001b[0m\u001b[0;34m)\u001b[0m\u001b[0;34m:\u001b[0m\u001b[0;34m\u001b[0m\u001b[0;34m\u001b[0m\u001b[0m\n\u001b[1;32m   4104\u001b[0m                 \u001b[0mindexer\u001b[0m \u001b[0;34m=\u001b[0m \u001b[0;34m[\u001b[0m\u001b[0mindexer\u001b[0m\u001b[0;34m]\u001b[0m\u001b[0;34m\u001b[0m\u001b[0;34m\u001b[0m\u001b[0m\n",
            "\u001b[0;32m/usr/local/lib/python3.11/dist-packages/pandas/core/indexes/base.py\u001b[0m in \u001b[0;36mget_loc\u001b[0;34m(self, key)\u001b[0m\n\u001b[1;32m   3810\u001b[0m             ):\n\u001b[1;32m   3811\u001b[0m                 \u001b[0;32mraise\u001b[0m \u001b[0mInvalidIndexError\u001b[0m\u001b[0;34m(\u001b[0m\u001b[0mkey\u001b[0m\u001b[0;34m)\u001b[0m\u001b[0;34m\u001b[0m\u001b[0;34m\u001b[0m\u001b[0m\n\u001b[0;32m-> 3812\u001b[0;31m             \u001b[0;32mraise\u001b[0m \u001b[0mKeyError\u001b[0m\u001b[0;34m(\u001b[0m\u001b[0mkey\u001b[0m\u001b[0;34m)\u001b[0m \u001b[0;32mfrom\u001b[0m \u001b[0merr\u001b[0m\u001b[0;34m\u001b[0m\u001b[0;34m\u001b[0m\u001b[0m\n\u001b[0m\u001b[1;32m   3813\u001b[0m         \u001b[0;32mexcept\u001b[0m \u001b[0mTypeError\u001b[0m\u001b[0;34m:\u001b[0m\u001b[0;34m\u001b[0m\u001b[0;34m\u001b[0m\u001b[0m\n\u001b[1;32m   3814\u001b[0m             \u001b[0;31m# If we have a listlike key, _check_indexing_error will raise\u001b[0m\u001b[0;34m\u001b[0m\u001b[0;34m\u001b[0m\u001b[0m\n",
            "\u001b[0;31mKeyError\u001b[0m: 'Structure Type'"
          ]
        }
      ]
    },
    {
      "cell_type": "code",
      "source": [
        "b=a[['Max Phase','Molecular Weight','Targets','AlogP','Polar Surface Area','HBA','HBD','#RO5 Violations','label1','Passes Ro3',\n",
        "     'CX Acidic pKa','CX LogD']]\n",
        "b.isnull().sum()\n"
      ],
      "metadata": {
        "colab": {
          "base_uri": "https://localhost:8080/",
          "height": 460
        },
        "id": "yBak1y2MTvf4",
        "outputId": "155b21e5-b3b7-4638-9c25-139f89a33152"
      },
      "execution_count": 44,
      "outputs": [
        {
          "output_type": "execute_result",
          "data": {
            "text/plain": [
              "Max Phase                0\n",
              "Molecular Weight         0\n",
              "Targets                  0\n",
              "AlogP                    0\n",
              "Polar Surface Area       0\n",
              "HBA                      0\n",
              "HBD                      0\n",
              "#RO5 Violations         39\n",
              "label1                   0\n",
              "Passes Ro3               0\n",
              "CX Acidic pKa            0\n",
              "CX LogD               2995\n",
              "dtype: int64"
            ],
            "text/html": [
              "<div>\n",
              "<style scoped>\n",
              "    .dataframe tbody tr th:only-of-type {\n",
              "        vertical-align: middle;\n",
              "    }\n",
              "\n",
              "    .dataframe tbody tr th {\n",
              "        vertical-align: top;\n",
              "    }\n",
              "\n",
              "    .dataframe thead th {\n",
              "        text-align: right;\n",
              "    }\n",
              "</style>\n",
              "<table border=\"1\" class=\"dataframe\">\n",
              "  <thead>\n",
              "    <tr style=\"text-align: right;\">\n",
              "      <th></th>\n",
              "      <th>0</th>\n",
              "    </tr>\n",
              "  </thead>\n",
              "  <tbody>\n",
              "    <tr>\n",
              "      <th>Max Phase</th>\n",
              "      <td>0</td>\n",
              "    </tr>\n",
              "    <tr>\n",
              "      <th>Molecular Weight</th>\n",
              "      <td>0</td>\n",
              "    </tr>\n",
              "    <tr>\n",
              "      <th>Targets</th>\n",
              "      <td>0</td>\n",
              "    </tr>\n",
              "    <tr>\n",
              "      <th>AlogP</th>\n",
              "      <td>0</td>\n",
              "    </tr>\n",
              "    <tr>\n",
              "      <th>Polar Surface Area</th>\n",
              "      <td>0</td>\n",
              "    </tr>\n",
              "    <tr>\n",
              "      <th>HBA</th>\n",
              "      <td>0</td>\n",
              "    </tr>\n",
              "    <tr>\n",
              "      <th>HBD</th>\n",
              "      <td>0</td>\n",
              "    </tr>\n",
              "    <tr>\n",
              "      <th>#RO5 Violations</th>\n",
              "      <td>39</td>\n",
              "    </tr>\n",
              "    <tr>\n",
              "      <th>label1</th>\n",
              "      <td>0</td>\n",
              "    </tr>\n",
              "    <tr>\n",
              "      <th>Passes Ro3</th>\n",
              "      <td>0</td>\n",
              "    </tr>\n",
              "    <tr>\n",
              "      <th>CX Acidic pKa</th>\n",
              "      <td>0</td>\n",
              "    </tr>\n",
              "    <tr>\n",
              "      <th>CX LogD</th>\n",
              "      <td>2995</td>\n",
              "    </tr>\n",
              "  </tbody>\n",
              "</table>\n",
              "</div><br><label><b>dtype:</b> int64</label>"
            ]
          },
          "metadata": {},
          "execution_count": 44
        }
      ]
    }
  ]
}