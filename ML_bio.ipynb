{
  "nbformat": 4,
  "nbformat_minor": 0,
  "metadata": {
    "colab": {
      "provenance": []
    },
    "kernelspec": {
      "name": "python3",
      "display_name": "Python 3"
    },
    "language_info": {
      "name": "python"
    }
  },
  "cells": [
    {
      "cell_type": "code",
      "source": [
        "!git clone https://github.com/jasonfghx/GNN.git"
      ],
      "metadata": {
        "colab": {
          "base_uri": "https://localhost:8080/"
        },
        "id": "ZxupiNjMO5tR",
        "outputId": "e6c7adc7-db4e-41da-ef28-1cbf2514c7d1"
      },
      "execution_count": 9,
      "outputs": [
        {
          "output_type": "stream",
          "name": "stdout",
          "text": [
            "Cloning into 'GNN'...\n",
            "remote: Enumerating objects: 32, done.\u001b[K\n",
            "remote: Counting objects: 100% (32/32), done.\u001b[K\n",
            "remote: Compressing objects: 100% (29/29), done.\u001b[K\n",
            "remote: Total 32 (delta 9), reused 0 (delta 0), pack-reused 0 (from 0)\u001b[K\n",
            "Receiving objects: 100% (32/32), 2.15 MiB | 6.27 MiB/s, done.\n",
            "Resolving deltas: 100% (9/9), done.\n"
          ]
        }
      ]
    },
    {
      "cell_type": "code",
      "source": [
        "# 這是RdRp_inhibitors_肝炎病毒抑制物_1928 跟inactive compounds合併\n",
        "import pandas as pd\n",
        "import numpy as np\n",
        "import re\n",
        "from sklearn.model_selection import train_test_split\n",
        "from xgboost import XGBClassifier\n",
        "from sklearn.metrics import classification_report, accuracy_score\n",
        "h=pd.read_csv('/content/GNN/Hepatitis C virus RdRp_inhibitors_肝炎病毒抑制物_1928.csv').iloc[:,:-2]\n",
        "def label1(a):\n",
        "  if np.isnan(a):\n",
        "    return 0\n",
        "  else:\n",
        "    return 1\n",
        "\n",
        "h['label1']=h['Bioactivities'].apply(label1)\n",
        "\n",
        "# h['label1']=1\n",
        "i=pd.read_csv('/content/GNN/inactive compounds.csv').iloc[:,:-2]\n",
        "i['label1']=0\n",
        "a=pd.concat([i,h])\n",
        "a=a.dropna(subset=['Smiles'])\n",
        "a = a.dropna(axis=1, how='all')\n",
        "a['Targets']=a['Targets'].fillna(0)\n",
        "a['AlogP']=a['AlogP'].fillna(0)\n",
        "a['Polar Surface Area']=a['Polar Surface Area'].fillna(0)\n",
        "a['HBA']=a['HBA'].fillna(0)\n",
        "a['HBD']=a['HBD'].fillna(0)\n",
        "a['Passes Ro3']=a['Passes Ro3'].map({'N':0,'Y':1}).fillna(3)\n",
        "a['CX Acidic pKa']=a['CX Acidic pKa'].fillna(0)\n",
        "a['Structure Type']=a['Structure Type'].map({'MOL':0,'BOTH':1})\n",
        "a['Molecular Species']=a['Molecular Species'].map({'ZWITTERION':0,'NEUTRAL':1,'BASE':2,'ACID':3})\n",
        "a['Max Phase']=a['Max Phase'].fillna(99)\n",
        "b=a[['Max Phase','Molecular Weight','Targets','AlogP','Polar Surface Area','HBA','HBD','#RO5 Violations','label1','Passes Ro3','QED Weighted',\n",
        "     'CX Acidic pKa','CX LogP','CX LogD','Aromatic Rings','Structure Type','Heavy Atoms','HBA (Lipinski)','HBD (Lipinski)','Molecular Weight (Monoisotopic)','Np Likeness Score',\n",
        "     'Molecular Species']]\n",
        "b=b.dropna()\n",
        "X=b[['Max Phase','Molecular Weight','AlogP','Polar Surface Area','HBA','HBD','#RO5 Violations','Passes Ro3','QED Weighted','CX Acidic pKa','CX LogP',\n",
        "     'CX LogD','Aromatic Rings','Structure Type','Heavy Atoms','HBA (Lipinski)','HBD (Lipinski)','Molecular Weight (Monoisotopic)','Np Likeness Score',\n",
        "     'Molecular Species']]\n",
        "y=b['label1']\n",
        "X_train, X_test, y_train, y_test = train_test_split(X, y, test_size=0.2, random_state=41)\n",
        "\n",
        "# 訓練XGBoost模型\n",
        "model = XGBClassifier(use_label_encoder=False, eval_metric='logloss',learning_rate=0.1)\n",
        "model.fit(X_train, y_train)\n",
        "\n",
        "# 預測\n",
        "y_pred = model.predict(X_test)\n",
        "\n",
        "# 評估結果\n",
        "print(\"Accuracy:\", accuracy_score(y_test, y_pred))\n",
        "print(classification_report(y_test, y_pred))"
      ],
      "metadata": {
        "colab": {
          "base_uri": "https://localhost:8080/"
        },
        "id": "I3IF8ZlvQaSu",
        "outputId": "70d09159-3b77-4091-b5f9-11a2870d2138"
      },
      "execution_count": 47,
      "outputs": [
        {
          "output_type": "stream",
          "name": "stdout",
          "text": [
            "Accuracy: 0.9656203288490284\n",
            "              precision    recall  f1-score   support\n",
            "\n",
            "           0       0.95      0.98      0.97       337\n",
            "           1       0.98      0.95      0.96       332\n",
            "\n",
            "    accuracy                           0.97       669\n",
            "   macro avg       0.97      0.97      0.97       669\n",
            "weighted avg       0.97      0.97      0.97       669\n",
            "\n"
          ]
        }
      ]
    },
    {
      "cell_type": "code",
      "source": [
        "# RdRp_inhibitors_新冠病毒抑制物_4195 跟inactive compounds合併\n",
        "import pandas as pd\n",
        "import numpy as np\n",
        "import re\n",
        "from sklearn.model_selection import train_test_split\n",
        "from xgboost import XGBClassifier\n",
        "from sklearn.metrics import classification_report, accuracy_score\n",
        "h=pd.read_csv('/content/GNN/SARS-CoV-2 RdRp_inhibitors_新冠病毒抑制物_4195.csv')\n",
        "\n",
        "\n",
        "def label1(a):\n",
        "  if np.isnan(a):\n",
        "    return 0\n",
        "  else:\n",
        "    return 1\n",
        "\n",
        "h['label1']=h['Bioactivities'].apply(label1)\n",
        "\n",
        "# h['label1']=1\n",
        "i=pd.read_csv('/content/GNN/inactive compounds.csv').iloc[:,:-2]\n",
        "i['label1']=0\n",
        "a=pd.concat([i,h])\n",
        "a=a.dropna(subset=['Smiles'])\n",
        "a = a.dropna(axis=1, how='all')\n",
        "a['Targets']=a['Targets'].fillna(0)\n",
        "a['AlogP']=a['AlogP'].fillna(0)\n",
        "a['Polar Surface Area']=a['Polar Surface Area'].fillna(0)\n",
        "a['HBA']=a['HBA'].fillna(0)\n",
        "a['HBD']=a['HBD'].fillna(0)\n",
        "a['Passes Ro3']=a['Passes Ro3'].map({'N':0,'Y':1}).fillna(3)\n",
        "a['CX Acidic pKa']=a['CX Acidic pKa'].fillna(0)\n",
        "a['Structure Type']=a['Structure Type'].map({'MOL':0,'BOTH':1})\n",
        "a['Molecular Species']=a['Molecular Species'].map({'ZWITTERION':0,'NEUTRAL':1,'BASE':2,'ACID':3})\n",
        "a['Max Phase']=a['Max Phase'].fillna(99)\n",
        "b=a[['Max Phase','Molecular Weight','Targets','AlogP','Polar Surface Area','HBA','HBD','#RO5 Violations','label1','Passes Ro3','QED Weighted',\n",
        "     'CX Acidic pKa','CX LogP','CX LogD','Aromatic Rings','Structure Type','Heavy Atoms','HBA (Lipinski)','HBD (Lipinski)','Molecular Weight (Monoisotopic)','Np Likeness Score',\n",
        "     'Molecular Species']]\n",
        "b=b.dropna()\n",
        "X=b[['Max Phase','Molecular Weight','AlogP','Polar Surface Area','HBA','HBD','#RO5 Violations','Passes Ro3','QED Weighted','CX Acidic pKa','CX LogP',\n",
        "     'CX LogD','Aromatic Rings','Structure Type','Heavy Atoms','HBA (Lipinski)','HBD (Lipinski)','Molecular Weight (Monoisotopic)','Np Likeness Score',\n",
        "     'Molecular Species']]\n",
        "y=b['label1']\n",
        "X_train, X_test, y_train, y_test = train_test_split(X, y, test_size=0.2, random_state=41)\n",
        "\n",
        "# 訓練XGBoost模型\n",
        "model = XGBClassifier(use_label_encoder=False, eval_metric='logloss',learning_rate=0.1)\n",
        "model.fit(X_train, y_train)\n",
        "\n",
        "# 預測\n",
        "y_pred = model.predict(X_test)\n",
        "\n",
        "# 評估結果\n",
        "print(\"Accuracy:\", accuracy_score(y_test, y_pred))\n",
        "print(classification_report(y_test, y_pred))"
      ],
      "metadata": {
        "colab": {
          "base_uri": "https://localhost:8080/"
        },
        "id": "dG5CHYIFQsVu",
        "outputId": "b91fadfb-76f9-4cd4-8157-58a222ebb38e"
      },
      "execution_count": 48,
      "outputs": [
        {
          "output_type": "stream",
          "name": "stdout",
          "text": [
            "Accuracy: 0.9500499500499501\n",
            "              precision    recall  f1-score   support\n",
            "\n",
            "           0       0.89      0.97      0.93       331\n",
            "           1       0.99      0.94      0.96       670\n",
            "\n",
            "    accuracy                           0.95      1001\n",
            "   macro avg       0.94      0.96      0.94      1001\n",
            "weighted avg       0.95      0.95      0.95      1001\n",
            "\n"
          ]
        }
      ]
    },
    {
      "cell_type": "code",
      "source": [
        "# 這是DENV inhibitors RdRp_登革熱病毒抑制物_335.csv 跟inactive compounds合併\n",
        "\n",
        "import pandas as pd\n",
        "import warnings\n",
        "warnings.filterwarnings(\"ignore\", category=UserWarning)\n",
        "import numpy as np\n",
        "import re\n",
        "from sklearn.model_selection import train_test_split\n",
        "from xgboost import XGBClassifier\n",
        "from sklearn.metrics import classification_report, accuracy_score\n",
        "h=pd.read_csv('/content/GNN/DENV inhibitors RdRp_登革熱病毒抑制物_335.csv')\n",
        "\n",
        "\n",
        "def label1(a):\n",
        "  if np.isnan(a):\n",
        "    return 0\n",
        "  else:\n",
        "    return 1\n",
        "\n",
        "h['label1']=h['Bioactivities'].apply(label1)\n",
        "temp=h[h['label1']==1]\n",
        "h=pd.concat([temp,temp,temp,temp,temp,temp,temp,temp,temp,temp,h])\n",
        "# h['label1']=1\n",
        "i=pd.read_csv('/content/GNN/inactive compounds.csv').iloc[:,:-2]\n",
        "i['label1']=0\n",
        "a=pd.concat([i,h])\n",
        "a=a.dropna(subset=['Smiles'])\n",
        "a = a.dropna(axis=1, how='all')\n",
        "a['Targets']=a['Targets'].fillna(0)\n",
        "a['AlogP']=a['AlogP'].fillna(0)\n",
        "a['Polar Surface Area']=a['Polar Surface Area'].fillna(0)\n",
        "a['HBA']=a['HBA'].fillna(0)\n",
        "a['HBD']=a['HBD'].fillna(0)\n",
        "a['Passes Ro3']=a['Passes Ro3'].map({'N':0,'Y':1}).fillna(3)\n",
        "a['CX Acidic pKa']=a['CX Acidic pKa'].fillna(0)\n",
        "\n",
        "a['Molecular Species']=a['Molecular Species'].map({'ZWITTERION':0,'NEUTRAL':1,'BASE':2,'ACID':3})\n",
        "a['Max Phase']=a['Max Phase'].fillna(99)\n",
        "b=a[['Max Phase','Molecular Weight','Targets','AlogP','Polar Surface Area','HBA','HBD','#RO5 Violations','label1','Passes Ro3',\n",
        "     'CX Acidic pKa']]\n",
        "b=b.dropna()\n",
        "X=b[['Max Phase','Molecular Weight','AlogP','Polar Surface Area','HBA','HBD','#RO5 Violations','Passes Ro3','CX Acidic pKa']]\n",
        "y=b['label1']\n",
        "X_train, X_test, y_train, y_test = train_test_split(X, y, test_size=0.2, random_state=41)\n",
        "\n",
        "# 訓練XGBoost模型\n",
        "model = XGBClassifier(use_label_encoder=False, eval_metric='logloss',learning_rate=0.1)\n",
        "model.fit(X_train, y_train)\n",
        "\n",
        "# 預測\n",
        "y_pred = model.predict(X_test)\n",
        "\n",
        "# 評估結果\n",
        "print(\"Accuracy:\", accuracy_score(y_test, y_pred))\n",
        "print(classification_report(y_test, y_pred))"
      ],
      "metadata": {
        "id": "deCHRDd7_fFP",
        "colab": {
          "base_uri": "https://localhost:8080/"
        },
        "outputId": "15e4e247-e568-4c35-ca17-1c3913a06b6f"
      },
      "execution_count": 49,
      "outputs": [
        {
          "output_type": "stream",
          "name": "stdout",
          "text": [
            "Accuracy: 0.9880043620501636\n",
            "              precision    recall  f1-score   support\n",
            "\n",
            "           0       1.00      0.97      0.98       359\n",
            "           1       0.98      1.00      0.99       558\n",
            "\n",
            "    accuracy                           0.99       917\n",
            "   macro avg       0.99      0.98      0.99       917\n",
            "weighted avg       0.99      0.99      0.99       917\n",
            "\n"
          ]
        }
      ]
    }
  ]
}